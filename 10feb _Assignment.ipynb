{
 "cells": [
  {
   "cell_type": "markdown",
   "id": "9b225071-6bc4-459b-9ceb-49acd33e525b",
   "metadata": {},
   "source": [
    "Q3. Write a python program to create a text file. Write ‘I want to become a Data Scientist’ in that file. Then\n",
    "close the file. Open this file and read the content of the file."
   ]
  },
  {
   "cell_type": "code",
   "execution_count": 1,
   "id": "ca298152-2c2e-4c8c-8182-e8df051a35f7",
   "metadata": {},
   "outputs": [],
   "source": [
    "f = open(\"text.file\" , 'w')"
   ]
  },
  {
   "cell_type": "code",
   "execution_count": 2,
   "id": "63c26ffb-aa97-44b8-bd52-451bf0b852dd",
   "metadata": {},
   "outputs": [
    {
     "data": {
      "text/plain": [
       "33"
      ]
     },
     "execution_count": 2,
     "metadata": {},
     "output_type": "execute_result"
    }
   ],
   "source": [
    "f.write(\"i want to become A data scientist\")"
   ]
  },
  {
   "cell_type": "code",
   "execution_count": 4,
   "id": "1b7208ca-b348-445d-a702-7485f673c514",
   "metadata": {},
   "outputs": [],
   "source": [
    "f.close()"
   ]
  },
  {
   "cell_type": "code",
   "execution_count": 5,
   "id": "1e23775a-77a6-42d2-8d0a-1f71e41562aa",
   "metadata": {},
   "outputs": [],
   "source": [
    "f = open(\"text.file\" , 'r') "
   ]
  },
  {
   "cell_type": "markdown",
   "id": "9df65a52-aa1f-4682-a90a-bb2de3ca17bc",
   "metadata": {},
   "source": [
    "Q2. Why close() function is used? Why is it important to close a file?"
   ]
  },
  {
   "cell_type": "markdown",
   "id": "07ac6b45-0255-47ae-b05a-6723597dcb04",
   "metadata": {},
   "source": [
    "The close() method closes an open file. You should always close your files, in some cases, due to buffering, changes made to a file may not show until you close the file"
   ]
  },
  {
   "cell_type": "markdown",
   "id": "1bf22327-cb57-4d17-a5d1-d11544043bd0",
   "metadata": {},
   "source": [
    "Q5. Explain why with statement is used with open(). What is the advantage of using with statement and\n",
    "open() together?"
   ]
  },
  {
   "cell_type": "markdown",
   "id": "1a96415f-3599-4ecf-940c-ac2265d19dc8",
   "metadata": {},
   "source": [
    "The with statement works with the open() function to open a file. Unlike open() where you have to close the file with the close() method, the with statement closes the file for you without you telling it to"
   ]
  },
  {
   "cell_type": "markdown",
   "id": "2e4282b9-8bda-419e-ba37-648381c3b5db",
   "metadata": {},
   "source": [
    "Q4. Explain the following with python code: read(), readline() and readlines()."
   ]
  },
  {
   "cell_type": "markdown",
   "id": "1537bf35-3f97-44f0-ab31-9bf5fce38c7b",
   "metadata": {},
   "source": [
    "Answer4 Python readline() method will return a line from the file when called. readlines() method will return all the lines in a file in the format of a list where each element is a line in the file."
   ]
  },
  {
   "cell_type": "markdown",
   "id": "5a1b2d36-450b-4c4d-919b-e1c3263d8ee1",
   "metadata": {},
   "source": [
    "Q6. Explain the write() and writelines() functions."
   ]
  },
  {
   "cell_type": "markdown",
   "id": "137f83d4-5b0e-4c9b-84e6-aed4a85b4d2f",
   "metadata": {},
   "source": [
    "Answer 6 The write() method accepts a string as an argument and writes this string to the text file. Whereas, the writelines() method accepts a string or the list of strings as an argument and writes these strings to the text file\n"
   ]
  },
  {
   "cell_type": "code",
   "execution_count": 12,
   "id": "5d724ccb-4434-459c-846b-511971859082",
   "metadata": {},
   "outputs": [],
   "source": [
    "f = open(\"test.file\" , 'w')"
   ]
  },
  {
   "cell_type": "code",
   "execution_count": 13,
   "id": "e60b305d-232a-4214-ad27-231163e9a1c8",
   "metadata": {},
   "outputs": [
    {
     "data": {
      "text/plain": [
       "34"
      ]
     },
     "execution_count": 13,
     "metadata": {},
     "output_type": "execute_result"
    }
   ],
   "source": [
    "f.write(\"i want to become a  data scientist\")"
   ]
  },
  {
   "cell_type": "markdown",
   "id": "56e60ec8-6913-4317-979e-53a7477da45b",
   "metadata": {},
   "source": [
    "Q1. Which function is used to open a file?What are the different modes of opening a file?Explain each mode\n",
    "of file opening."
   ]
  },
  {
   "cell_type": "markdown",
   "id": "5de48f22-fa7e-4b8e-9cb4-ca3c89c82b0b",
   "metadata": {},
   "source": [
    "Answer1 fopen function is used to open a file , file open mode , r - open a file in read mode. w - opens or create a text file in write mode. a - opens a file in append mode. r+ - opens a file in both read and write mode"
   ]
  },
  {
   "cell_type": "code",
   "execution_count": null,
   "id": "05b4342e-2e53-4cce-866c-09efd1efb177",
   "metadata": {},
   "outputs": [],
   "source": []
  }
 ],
 "metadata": {
  "kernelspec": {
   "display_name": "Python 3 (ipykernel)",
   "language": "python",
   "name": "python3"
  },
  "language_info": {
   "codemirror_mode": {
    "name": "ipython",
    "version": 3
   },
   "file_extension": ".py",
   "mimetype": "text/x-python",
   "name": "python",
   "nbconvert_exporter": "python",
   "pygments_lexer": "ipython3",
   "version": "3.10.8"
  }
 },
 "nbformat": 4,
 "nbformat_minor": 5
}
